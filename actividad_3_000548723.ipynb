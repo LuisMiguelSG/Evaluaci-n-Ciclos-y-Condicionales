{
  "nbformat": 4,
  "nbformat_minor": 0,
  "metadata": {
    "colab": {
      "provenance": [],
      "authorship_tag": "ABX9TyMgJRsmymuMYKlCU7LStcjj",
      "include_colab_link": true
    },
    "kernelspec": {
      "name": "python3",
      "display_name": "Python 3"
    },
    "language_info": {
      "name": "python"
    }
  },
  "cells": [
    {
      "cell_type": "markdown",
      "metadata": {
        "id": "view-in-github",
        "colab_type": "text"
      },
      "source": [
        "<a href=\"https://colab.research.google.com/github/LuisMiguelSG/Evaluaci-n-Ciclos-y-Condicionales/blob/main/actividad_3_000548723.ipynb\" target=\"_parent\"><img src=\"https://colab.research.google.com/assets/colab-badge.svg\" alt=\"Open In Colab\"/></a>"
      ]
    },
    {
      "cell_type": "markdown",
      "source": [
        "#Ciclos y Condicionales\n",
        "\n",
        "Fecha: *22 de marzo de 2024*\n",
        "\n",
        "Presentado por: *Luis Miguel Sierra Gomezcasseres*\n",
        "\n",
        "Email: luis.sierragc@upb.edu.co"
      ],
      "metadata": {
        "id": "oSWQxVCMG9i0"
      }
    },
    {
      "cell_type": "code",
      "source": [
        "print(\"Programa para simular el filtrado de señales utilizando la función de densidad de probabilidad (fdp) de la campana de Gauss (distribución normal)\")\n",
        "print(\"-\"*150)\n",
        "f = int(input(\"Escriba la frecuencia de la señal en un número entero: \"))\n",
        "i = 0\n",
        "fdp_acumulada = 0\n",
        "import math\n",
        "if f >= 0:\n",
        "    for i in range (f+1):\n",
        "        fdp = (math.e**((-1/2)*((i-1000)/300)**2)) / (300*((2*math.pi)**(1/2)))\n",
        "        fdp_acumulada += fdp\n",
        "else:\n",
        "    print(\"***Error***  Ingreso una frecuencia negativa\")\n",
        "print(\"La señal paso el filtro\") if fdp_acumulada > 0.3 else print(\"La señal fue bloqueada por el filtro\")"
      ],
      "metadata": {
        "id": "Hw0PIu-8k-yo"
      },
      "execution_count": null,
      "outputs": []
    }
  ]
}